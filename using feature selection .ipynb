{
 "cells": [
  {
   "cell_type": "markdown",
   "metadata": {},
   "source": [
    "# Third Analysis : (Using feature selection )\n",
    "# Part 1 "
   ]
  },
  {
   "cell_type": "code",
   "execution_count": 1,
   "metadata": {},
   "outputs": [],
   "source": [
    "import numpy as np \n",
    "import pandas as pd \n",
    "import matplotlib.pyplot as plt\n",
    "import seaborn as sns \n",
    "import warnings\n",
    "warnings.filterwarnings('ignore')\n",
    "%matplotlib inline "
   ]
  },
  {
   "cell_type": "code",
   "execution_count": 2,
   "metadata": {
    "scrolled": true
   },
   "outputs": [
    {
     "name": "stdout",
     "output_type": "stream",
     "text": [
      "Shape of the data :  (569, 33)\n"
     ]
    }
   ],
   "source": [
    "df = pd.read_csv(\"c:/users/HP/Dropbox/Breast Cancer ML Project/breast-cancer-wisconsin-data/data.csv\")\n",
    "cancer_df = df.copy()    # CREATING A COPY OF THE ORIGINAL DATAFRAME\n",
    "print(\"Shape of the data : \" , cancer_df.shape )\n"
   ]
  },
  {
   "cell_type": "markdown",
   "metadata": {},
   "source": [
    "# Preprocessing "
   ]
  },
  {
   "cell_type": "code",
   "execution_count": 3,
   "metadata": {},
   "outputs": [],
   "source": [
    "y = cancer_df.diagnosis.values \n",
    "\n",
    "cancer_df.drop([\"Unnamed: 32\" , \"id\", \"diagnosis\"] , axis = 1 , inplace= True ) \n",
    "cancer_df.head(3) \n",
    "feature_names = cancer_df.columns  # a list to store the feature names \n",
    "X = cancer_df.values "
   ]
  },
  {
   "cell_type": "code",
   "execution_count": 4,
   "metadata": {},
   "outputs": [],
   "source": [
    "from sklearn.preprocessing import StandardScaler "
   ]
  },
  {
   "cell_type": "code",
   "execution_count": 5,
   "metadata": {},
   "outputs": [],
   "source": [
    "# we need to have unit mean and zero variance/ step deviation \n",
    "\n",
    "scaler = StandardScaler()\n",
    "scaler.fit(X )\n",
    "scaled_x = scaler.transform(X) \n"
   ]
  },
  {
   "cell_type": "markdown",
   "metadata": {},
   "source": [
    "<p style = \"color :red ; font-family : monospace ; font-size :25px \" > feature selection </p>"
   ]
  },
  {
   "cell_type": "markdown",
   "metadata": {},
   "source": [
    "# Univariate Elimination"
   ]
  },
  {
   "cell_type": "code",
   "execution_count": 6,
   "metadata": {},
   "outputs": [],
   "source": [
    "from sklearn.feature_selection import SelectKBest , f_classif \n",
    "test = SelectKBest(score_func= f_classif , k= 25 )\n",
    "fit = test.fit(scaled_x , y ) \n",
    "new_x = fit.transform(scaled_x ) # new_x is the new input data \n",
    "\n",
    "scores = test.scores_   # Stores the score of each feature "
   ]
  },
  {
   "cell_type": "code",
   "execution_count": 7,
   "metadata": {},
   "outputs": [
    {
     "data": {
      "text/html": [
       "<div>\n",
       "<style scoped>\n",
       "    .dataframe tbody tr th:only-of-type {\n",
       "        vertical-align: middle;\n",
       "    }\n",
       "\n",
       "    .dataframe tbody tr th {\n",
       "        vertical-align: top;\n",
       "    }\n",
       "\n",
       "    .dataframe thead th {\n",
       "        text-align: right;\n",
       "    }\n",
       "</style>\n",
       "<table border=\"1\" class=\"dataframe\">\n",
       "  <thead>\n",
       "    <tr style=\"text-align: right;\">\n",
       "      <th></th>\n",
       "      <th>feature name</th>\n",
       "      <th>Score</th>\n",
       "    </tr>\n",
       "  </thead>\n",
       "  <tbody>\n",
       "    <tr>\n",
       "      <th>27</th>\n",
       "      <td>concave points_worst</td>\n",
       "      <td>964.385393</td>\n",
       "    </tr>\n",
       "    <tr>\n",
       "      <th>22</th>\n",
       "      <td>perimeter_worst</td>\n",
       "      <td>897.944219</td>\n",
       "    </tr>\n",
       "    <tr>\n",
       "      <th>7</th>\n",
       "      <td>concave points_mean</td>\n",
       "      <td>861.676020</td>\n",
       "    </tr>\n",
       "    <tr>\n",
       "      <th>20</th>\n",
       "      <td>radius_worst</td>\n",
       "      <td>860.781707</td>\n",
       "    </tr>\n",
       "    <tr>\n",
       "      <th>2</th>\n",
       "      <td>perimeter_mean</td>\n",
       "      <td>697.235272</td>\n",
       "    </tr>\n",
       "    <tr>\n",
       "      <th>23</th>\n",
       "      <td>area_worst</td>\n",
       "      <td>661.600206</td>\n",
       "    </tr>\n",
       "    <tr>\n",
       "      <th>0</th>\n",
       "      <td>radius_mean</td>\n",
       "      <td>646.981021</td>\n",
       "    </tr>\n",
       "    <tr>\n",
       "      <th>3</th>\n",
       "      <td>area_mean</td>\n",
       "      <td>573.060747</td>\n",
       "    </tr>\n",
       "    <tr>\n",
       "      <th>6</th>\n",
       "      <td>concavity_mean</td>\n",
       "      <td>533.793126</td>\n",
       "    </tr>\n",
       "    <tr>\n",
       "      <th>26</th>\n",
       "      <td>concavity_worst</td>\n",
       "      <td>436.691939</td>\n",
       "    </tr>\n",
       "    <tr>\n",
       "      <th>5</th>\n",
       "      <td>compactness_mean</td>\n",
       "      <td>313.233079</td>\n",
       "    </tr>\n",
       "    <tr>\n",
       "      <th>25</th>\n",
       "      <td>compactness_worst</td>\n",
       "      <td>304.341063</td>\n",
       "    </tr>\n",
       "    <tr>\n",
       "      <th>10</th>\n",
       "      <td>radius_se</td>\n",
       "      <td>268.840327</td>\n",
       "    </tr>\n",
       "    <tr>\n",
       "      <th>12</th>\n",
       "      <td>perimeter_se</td>\n",
       "      <td>253.897392</td>\n",
       "    </tr>\n",
       "    <tr>\n",
       "      <th>13</th>\n",
       "      <td>area_se</td>\n",
       "      <td>243.651586</td>\n",
       "    </tr>\n",
       "    <tr>\n",
       "      <th>21</th>\n",
       "      <td>texture_worst</td>\n",
       "      <td>149.596905</td>\n",
       "    </tr>\n",
       "    <tr>\n",
       "      <th>24</th>\n",
       "      <td>smoothness_worst</td>\n",
       "      <td>122.472880</td>\n",
       "    </tr>\n",
       "    <tr>\n",
       "      <th>28</th>\n",
       "      <td>symmetry_worst</td>\n",
       "      <td>118.860232</td>\n",
       "    </tr>\n",
       "    <tr>\n",
       "      <th>1</th>\n",
       "      <td>texture_mean</td>\n",
       "      <td>118.096059</td>\n",
       "    </tr>\n",
       "    <tr>\n",
       "      <th>17</th>\n",
       "      <td>concave points_se</td>\n",
       "      <td>113.262760</td>\n",
       "    </tr>\n",
       "    <tr>\n",
       "      <th>4</th>\n",
       "      <td>smoothness_mean</td>\n",
       "      <td>83.651123</td>\n",
       "    </tr>\n",
       "    <tr>\n",
       "      <th>8</th>\n",
       "      <td>symmetry_mean</td>\n",
       "      <td>69.527444</td>\n",
       "    </tr>\n",
       "    <tr>\n",
       "      <th>29</th>\n",
       "      <td>fractal_dimension_worst</td>\n",
       "      <td>66.443961</td>\n",
       "    </tr>\n",
       "    <tr>\n",
       "      <th>15</th>\n",
       "      <td>compactness_se</td>\n",
       "      <td>53.247339</td>\n",
       "    </tr>\n",
       "    <tr>\n",
       "      <th>16</th>\n",
       "      <td>concavity_se</td>\n",
       "      <td>39.014482</td>\n",
       "    </tr>\n",
       "    <tr>\n",
       "      <th>19</th>\n",
       "      <td>fractal_dimension_se</td>\n",
       "      <td>3.468275</td>\n",
       "    </tr>\n",
       "    <tr>\n",
       "      <th>14</th>\n",
       "      <td>smoothness_se</td>\n",
       "      <td>2.557968</td>\n",
       "    </tr>\n",
       "    <tr>\n",
       "      <th>9</th>\n",
       "      <td>fractal_dimension_mean</td>\n",
       "      <td>0.093459</td>\n",
       "    </tr>\n",
       "    <tr>\n",
       "      <th>11</th>\n",
       "      <td>texture_se</td>\n",
       "      <td>0.039095</td>\n",
       "    </tr>\n",
       "    <tr>\n",
       "      <th>18</th>\n",
       "      <td>symmetry_se</td>\n",
       "      <td>0.024117</td>\n",
       "    </tr>\n",
       "  </tbody>\n",
       "</table>\n",
       "</div>"
      ],
      "text/plain": [
       "               feature name       Score\n",
       "27     concave points_worst  964.385393\n",
       "22          perimeter_worst  897.944219\n",
       "7       concave points_mean  861.676020\n",
       "20             radius_worst  860.781707\n",
       "2            perimeter_mean  697.235272\n",
       "23               area_worst  661.600206\n",
       "0               radius_mean  646.981021\n",
       "3                 area_mean  573.060747\n",
       "6            concavity_mean  533.793126\n",
       "26          concavity_worst  436.691939\n",
       "5          compactness_mean  313.233079\n",
       "25        compactness_worst  304.341063\n",
       "10                radius_se  268.840327\n",
       "12             perimeter_se  253.897392\n",
       "13                  area_se  243.651586\n",
       "21            texture_worst  149.596905\n",
       "24         smoothness_worst  122.472880\n",
       "28           symmetry_worst  118.860232\n",
       "1              texture_mean  118.096059\n",
       "17        concave points_se  113.262760\n",
       "4           smoothness_mean   83.651123\n",
       "8             symmetry_mean   69.527444\n",
       "29  fractal_dimension_worst   66.443961\n",
       "15           compactness_se   53.247339\n",
       "16             concavity_se   39.014482\n",
       "19     fractal_dimension_se    3.468275\n",
       "14            smoothness_se    2.557968\n",
       "9    fractal_dimension_mean    0.093459\n",
       "11               texture_se    0.039095\n",
       "18              symmetry_se    0.024117"
      ]
     },
     "execution_count": 7,
     "metadata": {},
     "output_type": "execute_result"
    }
   ],
   "source": [
    "# Let's see the score of each feature \n",
    "score_df = pd.DataFrame({\"feature name\" : feature_names , \"Score\" : scores})\n",
    "score_df.sort_values( by = \"Score\" , inplace = True , ascending = False )\n",
    "score_df \n",
    "# First 25 features have been selected , last 5 features have been discarded \n",
    "# last 5 features have really less score "
   ]
  },
  {
   "cell_type": "code",
   "execution_count": 8,
   "metadata": {},
   "outputs": [],
   "source": [
    "from sklearn.model_selection import cross_val_predict "
   ]
  },
  {
   "cell_type": "markdown",
   "metadata": {},
   "source": [
    "# Logistic Regression "
   ]
  },
  {
   "cell_type": "code",
   "execution_count": 9,
   "metadata": {},
   "outputs": [],
   "source": [
    "accuracy = []    # a list to store the accuracy score "
   ]
  },
  {
   "cell_type": "code",
   "execution_count": 10,
   "metadata": {},
   "outputs": [],
   "source": [
    "from sklearn.linear_model import LogisticRegression\n",
    "log_model = LogisticRegression(solver = \"liblinear\")\n"
   ]
  },
  {
   "cell_type": "code",
   "execution_count": 11,
   "metadata": {},
   "outputs": [],
   "source": [
    "y_pred = cross_val_predict(log_model , new_x , y , cv = 10 )"
   ]
  },
  {
   "cell_type": "markdown",
   "metadata": {},
   "source": [
    "# Evaluation metrics"
   ]
  },
  {
   "cell_type": "code",
   "execution_count": 12,
   "metadata": {},
   "outputs": [],
   "source": [
    "from sklearn.metrics import accuracy_score , confusion_matrix , precision_score , recall_score , f1_score "
   ]
  },
  {
   "cell_type": "code",
   "execution_count": 13,
   "metadata": {},
   "outputs": [],
   "source": [
    "accuracy_log = round(accuracy_score(y , y_pred ) *100  , 2 ) \n",
    "accuracy.append(accuracy_log)\n",
    "confusion_matrix_log = confusion_matrix(y , y_pred )  \n",
    "precision_score_log = round(precision_score(y , y_pred , average= 'weighted') * 100 ,2 ) \n",
    "recall_score_log = round(recall_score(y , y_pred,  average= 'weighted') * 100 , 2 )\n",
    "f1_score_log =  round(f1_score(y , y_pred , average = 'weighted')  * 100  , 2 ) "
   ]
  },
  {
   "cell_type": "code",
   "execution_count": 14,
   "metadata": {},
   "outputs": [
    {
     "name": "stdout",
     "output_type": "stream",
     "text": [
      "Confusion matrix : \n",
      "[[354   3]\n",
      " [  8 204]]\n",
      "\n",
      "Accuracy score :  98.07\n",
      "Precision score :  98.07\n",
      "Recall score :  98.07\n",
      "f1 score :  98.06\n"
     ]
    }
   ],
   "source": [
    "print(\"Confusion matrix : \" , confusion_matrix_log , sep = '\\n' , end = '\\n\\n') \n",
    "print(\"Accuracy score : \" , accuracy_log )\n",
    "print(\"Precision score : \" , precision_score_log ) \n",
    "print(\"Recall score : \" ,  recall_score_log ) \n",
    "print(\"f1 score : \" , f1_score_log  )"
   ]
  },
  {
   "cell_type": "code",
   "execution_count": 15,
   "metadata": {},
   "outputs": [
    {
     "data": {
      "text/plain": [
       "[98.07]"
      ]
     },
     "execution_count": 15,
     "metadata": {},
     "output_type": "execute_result"
    }
   ],
   "source": [
    "accuracy"
   ]
  },
  {
   "cell_type": "code",
   "execution_count": null,
   "metadata": {},
   "outputs": [],
   "source": []
  },
  {
   "cell_type": "markdown",
   "metadata": {},
   "source": [
    "<p style=\"color : green ; font-size :20px ; font-family : verdana; \"> Logistic Regression gives an accuracy of \n",
    "<b>98.07 </b> </p>"
   ]
  },
  {
   "cell_type": "markdown",
   "metadata": {},
   "source": [
    "# Decision Tree"
   ]
  },
  {
   "cell_type": "code",
   "execution_count": 16,
   "metadata": {},
   "outputs": [],
   "source": [
    "from sklearn.tree import DecisionTreeClassifier "
   ]
  },
  {
   "cell_type": "code",
   "execution_count": 17,
   "metadata": {},
   "outputs": [
    {
     "name": "stdout",
     "output_type": "stream",
     "text": [
      "----  Depth : ----  3\n",
      "Accuracy Score :  93.85\n",
      "precision score :  93.84\n",
      "Recall score :  93.85\n",
      "f1 score :  93.85\n",
      "----  Depth : ----  4\n",
      "Accuracy Score :  93.85\n",
      "precision score :  93.84\n",
      "Recall score :  93.85\n",
      "f1 score :  93.83\n",
      "----  Depth : ----  5\n",
      "Accuracy Score :  94.02\n",
      "precision score :  94.02\n",
      "Recall score :  94.02\n",
      "f1 score :  94.02\n",
      "----  Depth : ----  6\n",
      "Accuracy Score :  92.79\n",
      "precision score :  92.82\n",
      "Recall score :  92.79\n",
      "f1 score :  92.8\n",
      "----  Depth : ----  7\n",
      "Accuracy Score :  93.15\n",
      "precision score :  93.22\n",
      "Recall score :  93.15\n",
      "f1 score :  93.17\n",
      "----  Depth : ----  8\n",
      "Accuracy Score :  93.15\n",
      "precision score :  93.22\n",
      "Recall score :  93.15\n",
      "f1 score :  93.17\n",
      "----  Depth : ----  9\n",
      "Accuracy Score :  93.15\n",
      "precision score :  93.22\n",
      "Recall score :  93.15\n",
      "f1 score :  93.17\n"
     ]
    }
   ],
   "source": [
    "depths = [i for i in range(3, 10 )]\n",
    "for depth in depths :\n",
    "    tree = DecisionTreeClassifier(criterion= \"entropy\" , max_depth= depth , random_state= 3 ) \n",
    "    y_pred = cross_val_predict(tree , new_x , y , cv = 10 ) \n",
    "    print (\"----  Depth : ---- \" , depth ) \n",
    "    print(\"Accuracy Score : \" , round(accuracy_score(y , y_pred ) * 100 , 2 )  )\n",
    "    print(\"precision score : \" , round(precision_score(y , y_pred , average ='weighted') * 100 , 2 ) )\n",
    "    print(\"Recall score : \" , round( recall_score(y , y_pred , average = 'weighted') * 100  , 2 ) )\n",
    "    print(\"f1 score : \" , round(f1_score(y , y_pred , average = \"weighted\") * 100  , 2 )) "
   ]
  },
  {
   "cell_type": "markdown",
   "metadata": {},
   "source": [
    "<p style = \"color : green ; font-size :20px ; fontfamily : verdana \" >for depth = 5 , we are getting a max accuracy of <b>94.02</b> </p>"
   ]
  },
  {
   "cell_type": "code",
   "execution_count": 18,
   "metadata": {},
   "outputs": [],
   "source": [
    "accuracy.append(94.02) "
   ]
  },
  {
   "cell_type": "markdown",
   "metadata": {},
   "source": [
    "# KNN"
   ]
  },
  {
   "cell_type": "code",
   "execution_count": 19,
   "metadata": {},
   "outputs": [],
   "source": [
    "from sklearn.neighbors import KNeighborsClassifier "
   ]
  },
  {
   "cell_type": "code",
   "execution_count": 20,
   "metadata": {},
   "outputs": [
    {
     "name": "stdout",
     "output_type": "stream",
     "text": [
      "---  k value : ---  2\n",
      "Accuracy Score :  95.78\n",
      "precision score :  96.0\n",
      "Recall score :  95.78\n",
      "f1 score :  95.73\n",
      "\n",
      "---  k value : ---  3\n",
      "Accuracy Score :  96.49\n",
      "precision score :  96.5\n",
      "Recall score :  96.49\n",
      "f1 score :  96.47\n",
      "\n",
      "---  k value : ---  4\n",
      "Accuracy Score :  96.49\n",
      "precision score :  96.59\n",
      "Recall score :  96.49\n",
      "f1 score :  96.45\n",
      "\n",
      "---  k value : ---  5\n",
      "Accuracy Score :  97.19\n",
      "precision score :  97.22\n",
      "Recall score :  97.19\n",
      "f1 score :  97.17\n",
      "\n",
      "---  k value : ---  6\n",
      "Accuracy Score :  96.49\n",
      "precision score :  96.56\n",
      "Recall score :  96.49\n",
      "f1 score :  96.46\n",
      "\n",
      "---  k value : ---  7\n",
      "Accuracy Score :  96.49\n",
      "precision score :  96.53\n",
      "Recall score :  96.49\n",
      "f1 score :  96.46\n",
      "\n",
      "---  k value : ---  8\n",
      "Accuracy Score :  96.13\n",
      "precision score :  96.23\n",
      "Recall score :  96.13\n",
      "f1 score :  96.1\n",
      "\n",
      "---  k value : ---  9\n",
      "Accuracy Score :  96.66\n",
      "precision score :  96.7\n",
      "Recall score :  96.66\n",
      "f1 score :  96.64\n",
      "\n",
      "---  k value : ---  10\n",
      "Accuracy Score :  95.96\n",
      "precision score :  96.04\n",
      "Recall score :  95.96\n",
      "f1 score :  95.93\n",
      "\n",
      "---  k value : ---  11\n",
      "Accuracy Score :  96.31\n",
      "precision score :  96.37\n",
      "Recall score :  96.31\n",
      "f1 score :  96.28\n",
      "\n",
      "---  k value : ---  12\n",
      "Accuracy Score :  96.31\n",
      "precision score :  96.4\n",
      "Recall score :  96.31\n",
      "f1 score :  96.28\n",
      "\n",
      "---  k value : ---  13\n",
      "Accuracy Score :  96.31\n",
      "precision score :  96.4\n",
      "Recall score :  96.31\n",
      "f1 score :  96.28\n",
      "\n",
      "---  k value : ---  14\n",
      "Accuracy Score :  95.96\n",
      "precision score :  96.11\n",
      "Recall score :  95.96\n",
      "f1 score :  95.92\n",
      "\n"
     ]
    }
   ],
   "source": [
    "for k in range(2, 15 ) :\n",
    "    knn_model = KNeighborsClassifier(n_neighbors= k ) \n",
    "    y_pred  = cross_val_predict(knn_model , new_x , y , cv = 10 )\n",
    "    print(\"---  k value : --- \"  , k )    \n",
    "    print(\"Accuracy Score : \" , round(accuracy_score(y , y_pred ) * 100 , 2 )  )\n",
    "    print(\"precision score : \" , round(precision_score(y , y_pred , average ='weighted') * 100 , 2 ) )\n",
    "    print(\"Recall score : \" , round( recall_score(y , y_pred , average = 'weighted') * 100  , 2 ) )\n",
    "    print(\"f1 score : \" , round(f1_score(y , y_pred , average = \"weighted\") * 100  , 2 ) ,end = '\\n\\n')     \n",
    "            "
   ]
  },
  {
   "cell_type": "markdown",
   "metadata": {},
   "source": [
    "<p style = \"color : green ; font-size :20px ; fontfamily : verdana \" >for k = 5 , we are getting a max accuracy of <b>97.19</b> </p>"
   ]
  },
  {
   "cell_type": "code",
   "execution_count": 21,
   "metadata": {},
   "outputs": [],
   "source": [
    "accuracy.append(97.19)"
   ]
  },
  {
   "cell_type": "markdown",
   "metadata": {},
   "source": [
    "# visualization "
   ]
  },
  {
   "cell_type": "code",
   "execution_count": 22,
   "metadata": {},
   "outputs": [],
   "source": [
    "test = [\"log_reg\" , \"Dec_tree\" , \"KNN\"]\n",
    "cv_accuracy = [98.24 , 93.85 , 96.84 ]"
   ]
  },
  {
   "cell_type": "code",
   "execution_count": 23,
   "metadata": {},
   "outputs": [
    {
     "data": {
      "text/html": [
       "<div>\n",
       "<style scoped>\n",
       "    .dataframe tbody tr th:only-of-type {\n",
       "        vertical-align: middle;\n",
       "    }\n",
       "\n",
       "    .dataframe tbody tr th {\n",
       "        vertical-align: top;\n",
       "    }\n",
       "\n",
       "    .dataframe thead th {\n",
       "        text-align: right;\n",
       "    }\n",
       "</style>\n",
       "<table border=\"1\" class=\"dataframe\">\n",
       "  <thead>\n",
       "    <tr style=\"text-align: right;\">\n",
       "      <th></th>\n",
       "      <th>Test</th>\n",
       "      <th>Using Feature selection</th>\n",
       "      <th>No feature selection(only cv)</th>\n",
       "    </tr>\n",
       "  </thead>\n",
       "  <tbody>\n",
       "    <tr>\n",
       "      <th>0</th>\n",
       "      <td>log_reg</td>\n",
       "      <td>98.07</td>\n",
       "      <td>98.24</td>\n",
       "    </tr>\n",
       "    <tr>\n",
       "      <th>1</th>\n",
       "      <td>Dec_tree</td>\n",
       "      <td>94.02</td>\n",
       "      <td>93.85</td>\n",
       "    </tr>\n",
       "    <tr>\n",
       "      <th>2</th>\n",
       "      <td>KNN</td>\n",
       "      <td>97.19</td>\n",
       "      <td>96.84</td>\n",
       "    </tr>\n",
       "  </tbody>\n",
       "</table>\n",
       "</div>"
      ],
      "text/plain": [
       "       Test  Using Feature selection  No feature selection(only cv)\n",
       "0   log_reg                    98.07                          98.24\n",
       "1  Dec_tree                    94.02                          93.85\n",
       "2       KNN                    97.19                          96.84"
      ]
     },
     "execution_count": 23,
     "metadata": {},
     "output_type": "execute_result"
    }
   ],
   "source": [
    "test_df = pd.DataFrame({\"Test\" : test , \"Using Feature selection\" : accuracy , \"No feature selection(only cv)\" : cv_accuracy})\n",
    "test_df"
   ]
  },
  {
   "cell_type": "code",
   "execution_count": 24,
   "metadata": {},
   "outputs": [
    {
     "data": {
      "image/png": "[encoded data removed]",
      "text/plain": [
       "<Figure size 576x432 with 1 Axes>"
      ]
     },
     "metadata": {
      "needs_background": "light"
     },
     "output_type": "display_data"
    }
   ],
   "source": [
    "plt.figure(figsize = (8, 6))\n",
    "plt.plot(test, cv_accuracy , color = \"red\" , marker = \"*\" , label = \"No feature selection\")\n",
    "plt.plot(test , accuracy , color = \"blue\" , marker = \"*\" , label = \"Using feature selection \")\n",
    "plt.ylabel(\"Accuracy\" , color = \"green\" ,  fontsize = 20)\n",
    "plt.xticks(color = \"magenta\" , fontsize = 15 , rotation = 20 )\n",
    "plt.legend()\n",
    "plt.grid(True)\n",
    "plt.tight_layout()\n",
    "plt.savefig(\"third_ana1.png\")\n",
    "plt.show()"
   ]
  },
  {
   "cell_type": "markdown",
   "metadata": {},
   "source": [
    "# Part 2 \n",
    "# SVM classifier "
   ]
  },
  {
   "cell_type": "code",
   "execution_count": 25,
   "metadata": {},
   "outputs": [],
   "source": [
    "from sklearn.svm import SVC\n",
    "from sklearn.model_selection import GridSearchCV "
   ]
  },
  {
   "cell_type": "code",
   "execution_count": 26,
   "metadata": {},
   "outputs": [],
   "source": [
    "kernels = [\"linear\" , \"poly\", \"rbf\" , \"sigmoid\"] \n",
    "C = [1 , 10 ,100 , 1000 ]\n",
    "gamma = [1 , 0.1 , 0.01 , 0.001 ]\n",
    "kernel_accuracy = [] \n",
    "kernel_f1_score = []\n",
    "kernel_precision_score = [] \n",
    "kernel_recall_score = [] "
   ]
  },
  {
   "cell_type": "code",
   "execution_count": 27,
   "metadata": {
    "scrolled": true
   },
   "outputs": [],
   "source": [
    "for kernel in kernels :\n",
    "    grid = GridSearchCV(estimator = SVC() , param_grid= {\"C\" : C , \"gamma\" : gamma , \"kernel\" : [kernel]}) \n",
    "    y_pred = cross_val_predict(grid , new_x , y , cv = 10 )\n",
    "    \n",
    "    kernel_accuracy.append(round(accuracy_score(y , y_pred) * 100  , 2 ))\n",
    "    kernel_precision_score.append( round(precision_score(y , y_pred , average ='weighted') * 100 , 2 ))\n",
    "    kernel_recall_score.append( round(recall_score(y , y_pred , average ='weighted') * 100 , 2 ))\n",
    "    kernel_f1_score.append( round(f1_score(y , y_pred , average ='weighted') * 100 , 2 ))\n",
    "        \n"
   ]
  },
  {
   "cell_type": "code",
   "execution_count": 28,
   "metadata": {},
   "outputs": [
    {
     "data": {
      "text/html": [
       "<div>\n",
       "<style scoped>\n",
       "    .dataframe tbody tr th:only-of-type {\n",
       "        vertical-align: middle;\n",
       "    }\n",
       "\n",
       "    .dataframe tbody tr th {\n",
       "        vertical-align: top;\n",
       "    }\n",
       "\n",
       "    .dataframe thead th {\n",
       "        text-align: right;\n",
       "    }\n",
       "</style>\n",
       "<table border=\"1\" class=\"dataframe\">\n",
       "  <thead>\n",
       "    <tr style=\"text-align: right;\">\n",
       "      <th></th>\n",
       "      <th>Kernels</th>\n",
       "      <th>Accuracy score</th>\n",
       "      <th>Precision_score</th>\n",
       "      <th>Recall score</th>\n",
       "      <th>f1 score</th>\n",
       "    </tr>\n",
       "  </thead>\n",
       "  <tbody>\n",
       "    <tr>\n",
       "      <th>0</th>\n",
       "      <td>linear</td>\n",
       "      <td>97.36</td>\n",
       "      <td>97.36</td>\n",
       "      <td>97.36</td>\n",
       "      <td>97.36</td>\n",
       "    </tr>\n",
       "    <tr>\n",
       "      <th>1</th>\n",
       "      <td>poly</td>\n",
       "      <td>95.78</td>\n",
       "      <td>95.78</td>\n",
       "      <td>95.78</td>\n",
       "      <td>95.77</td>\n",
       "    </tr>\n",
       "    <tr>\n",
       "      <th>2</th>\n",
       "      <td>rbf</td>\n",
       "      <td>98.07</td>\n",
       "      <td>98.07</td>\n",
       "      <td>98.07</td>\n",
       "      <td>98.06</td>\n",
       "    </tr>\n",
       "    <tr>\n",
       "      <th>3</th>\n",
       "      <td>sigmoid</td>\n",
       "      <td>97.19</td>\n",
       "      <td>97.19</td>\n",
       "      <td>97.19</td>\n",
       "      <td>97.18</td>\n",
       "    </tr>\n",
       "  </tbody>\n",
       "</table>\n",
       "</div>"
      ],
      "text/plain": [
       "   Kernels  Accuracy score  Precision_score  Recall score  f1 score\n",
       "0   linear           97.36            97.36         97.36     97.36\n",
       "1     poly           95.78            95.78         95.78     95.77\n",
       "2      rbf           98.07            98.07         98.07     98.06\n",
       "3  sigmoid           97.19            97.19         97.19     97.18"
      ]
     },
     "execution_count": 28,
     "metadata": {},
     "output_type": "execute_result"
    }
   ],
   "source": [
    "pd.DataFrame({\"Kernels\" : kernels , \"Accuracy score\" : kernel_accuracy , \"Precision_score\" : kernel_precision_score , \n",
    "             \"Recall score\" : kernel_recall_score , \"f1 score\" : kernel_f1_score })"
   ]
  },
  {
   "cell_type": "code",
   "execution_count": 29,
   "metadata": {},
   "outputs": [],
   "source": [
    "cv_kernel_accuracy = [97.36 ,96.31 ,97.19 ,97.72 ]"
   ]
  },
  {
   "cell_type": "markdown",
   "metadata": {},
   "source": [
    "# visualization"
   ]
  },
  {
   "cell_type": "code",
   "execution_count": 30,
   "metadata": {},
   "outputs": [
    {
     "data": {
      "text/html": [
       "<div>\n",
       "<style scoped>\n",
       "    .dataframe tbody tr th:only-of-type {\n",
       "        vertical-align: middle;\n",
       "    }\n",
       "\n",
       "    .dataframe tbody tr th {\n",
       "        vertical-align: top;\n",
       "    }\n",
       "\n",
       "    .dataframe thead th {\n",
       "        text-align: right;\n",
       "    }\n",
       "</style>\n",
       "<table border=\"1\" class=\"dataframe\">\n",
       "  <thead>\n",
       "    <tr style=\"text-align: right;\">\n",
       "      <th></th>\n",
       "      <th>Kernels</th>\n",
       "      <th>Using Feature Selection</th>\n",
       "      <th>No Feature selection</th>\n",
       "    </tr>\n",
       "  </thead>\n",
       "  <tbody>\n",
       "    <tr>\n",
       "      <th>0</th>\n",
       "      <td>linear</td>\n",
       "      <td>97.36</td>\n",
       "      <td>97.36</td>\n",
       "    </tr>\n",
       "    <tr>\n",
       "      <th>1</th>\n",
       "      <td>poly</td>\n",
       "      <td>95.78</td>\n",
       "      <td>96.31</td>\n",
       "    </tr>\n",
       "    <tr>\n",
       "      <th>2</th>\n",
       "      <td>rbf</td>\n",
       "      <td>98.07</td>\n",
       "      <td>97.19</td>\n",
       "    </tr>\n",
       "    <tr>\n",
       "      <th>3</th>\n",
       "      <td>sigmoid</td>\n",
       "      <td>97.19</td>\n",
       "      <td>97.72</td>\n",
       "    </tr>\n",
       "  </tbody>\n",
       "</table>\n",
       "</div>"
      ],
      "text/plain": [
       "   Kernels  Using Feature Selection   No Feature selection\n",
       "0   linear                     97.36                 97.36\n",
       "1     poly                     95.78                 96.31\n",
       "2      rbf                     98.07                 97.19\n",
       "3  sigmoid                     97.19                 97.72"
      ]
     },
     "execution_count": 30,
     "metadata": {},
     "output_type": "execute_result"
    }
   ],
   "source": [
    "kernel_df = pd.DataFrame({\"Kernels\" : kernels ,\"Using Feature Selection \" : kernel_accuracy , \"No Feature selection\" : cv_kernel_accuracy })\n",
    "kernel_df "
   ]
  },
  {
   "cell_type": "code",
   "execution_count": 31,
   "metadata": {},
   "outputs": [
    {
     "data": {
      "image/png": "[encoded data removed]",
      "text/plain": [
       "<Figure size 576x432 with 1 Axes>"
      ]
     },
     "metadata": {
      "needs_background": "light"
     },
     "output_type": "display_data"
    }
   ],
   "source": [
    "plt.figure(figsize = (8 , 6 ))\n",
    "plt.plot(kernels , cv_kernel_accuracy , color = \"red\" , marker = \"*\" , label = \"No feature selection\")\n",
    "plt.plot(kernels , kernel_accuracy , color = \"blue\" , marker = \"*\" , label = \"using feature selection \")\n",
    "plt.legend() \n",
    "plt.grid(True)\n",
    "plt.ylabel(\"Accuracy\" , color = \"green\" ,  fontsize = 20)\n",
    "plt.xticks(color = \"magenta\" , fontsize = 15 , rotation = 20 )\n",
    "plt.tight_layout()\n",
    "plt.savefig(\"third_ana2.png\")\n",
    "plt.show()"
   ]
  },
  {
   "cell_type": "markdown",
   "metadata": {},
   "source": [
    "# end of Third analysis"
   ]
  }
 ],
 "metadata": {
  "kernelspec": {
   "display_name": "Python 3",
   "language": "python",
   "name": "python3"
  },
  "language_info": {
   "codemirror_mode": {
    "name": "ipython",
    "version": 3
   },
   "file_extension": ".py",
   "mimetype": "text/x-python",
   "name": "python",
   "nbconvert_exporter": "python",
   "pygments_lexer": "ipython3",
   "version": "3.7.3"
  }
 },
 "nbformat": 4,
 "nbformat_minor": 2
}
